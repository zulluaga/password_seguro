{
 "cells": [
  {
   "cell_type": "code",
   "execution_count": 5,
   "metadata": {},
   "outputs": [
    {
     "name": "stdout",
     "output_type": "stream",
     "text": [
      "El password es seguro.\n"
     ]
    }
   ],
   "source": [
    "def comprobarContraseña(password):\n",
    "    largo = False\n",
    "    mayus = False\n",
    "    numer = False\n",
    "    if len(password) >8:\n",
    "        largo = True\n",
    "        \n",
    "    for i in range(len(password)):\n",
    "        if password[i].isupper():\n",
    "            mayus = True\n",
    "            \n",
    "        if password[i].isnumeric():\n",
    "            numer = True\n",
    "    if largo and mayus and numer:\n",
    "        return True\n",
    "    else:\n",
    "        return False\n",
    "            \n",
    "password = input(\"Ingrese el password: \")\n",
    "\n",
    "verificacion = comprobarContraseña(password)\n",
    "\n",
    "if verificacion:\n",
    "    print(\"El password es seguro.\")\n",
    "    \n",
    "else:\n",
    "    print(\"El password no es seguro.\")\n",
    "\n"
   ]
  },
  {
   "cell_type": "code",
   "execution_count": null,
   "metadata": {},
   "outputs": [],
   "source": []
  }
 ],
 "metadata": {
  "kernelspec": {
   "display_name": "Python 3",
   "language": "python",
   "name": "python3"
  },
  "language_info": {
   "codemirror_mode": {
    "name": "ipython",
    "version": 3
   },
   "file_extension": ".py",
   "mimetype": "text/x-python",
   "name": "python",
   "nbconvert_exporter": "python",
   "pygments_lexer": "ipython3",
   "version": "3.10.8"
  },
  "orig_nbformat": 4,
  "vscode": {
   "interpreter": {
    "hash": "1464948e9d8a8ba03cc52a1d95e5d437f03a322fc2fe38ff62aee03640f8ed2f"
   }
  }
 },
 "nbformat": 4,
 "nbformat_minor": 2
}
